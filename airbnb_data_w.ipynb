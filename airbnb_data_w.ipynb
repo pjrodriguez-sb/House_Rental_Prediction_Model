{
 "metadata": {
  "language_info": {
   "codemirror_mode": {
    "name": "ipython",
    "version": 3
   },
   "file_extension": ".py",
   "mimetype": "text/x-python",
   "name": "python",
   "nbconvert_exporter": "python",
   "pygments_lexer": "ipython3",
   "version": "3.8.3-final"
  },
  "orig_nbformat": 2,
  "kernelspec": {
   "name": "python3",
   "display_name": "Python 3.8.3 64-bit ('base': conda)",
   "metadata": {
    "interpreter": {
     "hash": "94439d486f1d3dfeec33e1de8c79816fca1ff7d210b7f5b901b4098cf049baa6"
    }
   }
  }
 },
 "nbformat": 4,
 "nbformat_minor": 2,
 "cells": [
  {
   "source": [
    "# Capstone 3: Data Wrangling\n",
    "## By: Pedro Rodriguez\n",
    "\n",
    "I will import the Listing data obtained from Kaggle to see what features have and determine what elements are needed to know how the cleaning fee impacts the monthly booking. "
   ],
   "cell_type": "markdown",
   "metadata": {}
  },
  {
   "cell_type": "code",
   "execution_count": 1,
   "metadata": {},
   "outputs": [
    {
     "output_type": "stream",
     "name": "stdout",
     "text": [
      "<class 'pandas.core.frame.DataFrame'>\nRangeIndex: 3818 entries, 0 to 3817\nData columns (total 92 columns):\n #   Column                            Non-Null Count  Dtype  \n---  ------                            --------------  -----  \n 0   id                                3818 non-null   int64  \n 1   listing_url                       3818 non-null   object \n 2   scrape_id                         3818 non-null   int64  \n 3   last_scraped                      3818 non-null   object \n 4   name                              3818 non-null   object \n 5   summary                           3641 non-null   object \n 6   space                             3249 non-null   object \n 7   description                       3818 non-null   object \n 8   experiences_offered               3818 non-null   object \n 9   neighborhood_overview             2786 non-null   object \n 10  notes                             2212 non-null   object \n 11  transit                           2884 non-null   object \n 12  thumbnail_url                     3498 non-null   object \n 13  medium_url                        3498 non-null   object \n 14  picture_url                       3818 non-null   object \n 15  xl_picture_url                    3498 non-null   object \n 16  host_id                           3818 non-null   int64  \n 17  host_url                          3818 non-null   object \n 18  host_name                         3816 non-null   object \n 19  host_since                        3816 non-null   object \n 20  host_location                     3810 non-null   object \n 21  host_about                        2959 non-null   object \n 22  host_response_time                3295 non-null   object \n 23  host_response_rate                3295 non-null   object \n 24  host_acceptance_rate              3045 non-null   object \n 25  host_is_superhost                 3816 non-null   object \n 26  host_thumbnail_url                3816 non-null   object \n 27  host_picture_url                  3816 non-null   object \n 28  host_neighbourhood                3518 non-null   object \n 29  host_listings_count               3816 non-null   float64\n 30  host_total_listings_count         3816 non-null   float64\n 31  host_verifications                3818 non-null   object \n 32  host_has_profile_pic              3816 non-null   object \n 33  host_identity_verified            3816 non-null   object \n 34  street                            3818 non-null   object \n 35  neighbourhood                     3402 non-null   object \n 36  neighbourhood_cleansed            3818 non-null   object \n 37  neighbourhood_group_cleansed      3818 non-null   object \n 38  city                              3818 non-null   object \n 39  state                             3818 non-null   object \n 40  zipcode                           3811 non-null   object \n 41  market                            3818 non-null   object \n 42  smart_location                    3818 non-null   object \n 43  country_code                      3818 non-null   object \n 44  country                           3818 non-null   object \n 45  latitude                          3818 non-null   float64\n 46  longitude                         3818 non-null   float64\n 47  is_location_exact                 3818 non-null   object \n 48  property_type                     3817 non-null   object \n 49  room_type                         3818 non-null   object \n 50  accommodates                      3818 non-null   int64  \n 51  bathrooms                         3802 non-null   float64\n 52  bedrooms                          3812 non-null   float64\n 53  beds                              3817 non-null   float64\n 54  bed_type                          3818 non-null   object \n 55  amenities                         3818 non-null   object \n 56  square_feet                       97 non-null     float64\n 57  price                             3818 non-null   object \n 58  weekly_price                      2009 non-null   object \n 59  monthly_price                     1517 non-null   object \n 60  security_deposit                  1866 non-null   object \n 61  cleaning_fee                      2788 non-null   object \n 62  guests_included                   3818 non-null   int64  \n 63  extra_people                      3818 non-null   object \n 64  minimum_nights                    3818 non-null   int64  \n 65  maximum_nights                    3818 non-null   int64  \n 66  calendar_updated                  3818 non-null   object \n 67  has_availability                  3818 non-null   object \n 68  availability_30                   3818 non-null   int64  \n 69  availability_60                   3818 non-null   int64  \n 70  availability_90                   3818 non-null   int64  \n 71  availability_365                  3818 non-null   int64  \n 72  calendar_last_scraped             3818 non-null   object \n 73  number_of_reviews                 3818 non-null   int64  \n 74  first_review                      3191 non-null   object \n 75  last_review                       3191 non-null   object \n 76  review_scores_rating              3171 non-null   float64\n 77  review_scores_accuracy            3160 non-null   float64\n 78  review_scores_cleanliness         3165 non-null   float64\n 79  review_scores_checkin             3160 non-null   float64\n 80  review_scores_communication       3167 non-null   float64\n 81  review_scores_location            3163 non-null   float64\n 82  review_scores_value               3162 non-null   float64\n 83  requires_license                  3818 non-null   object \n 84  license                           0 non-null      float64\n 85  jurisdiction_names                3818 non-null   object \n 86  instant_bookable                  3818 non-null   object \n 87  cancellation_policy               3818 non-null   object \n 88  require_guest_profile_picture     3818 non-null   object \n 89  require_guest_phone_verification  3818 non-null   object \n 90  calculated_host_listings_count    3818 non-null   int64  \n 91  reviews_per_month                 3191 non-null   float64\ndtypes: float64(17), int64(13), object(62)\nmemory usage: 2.7+ MB\n"
     ]
    }
   ],
   "source": [
    "import pandas as pd\n",
    "import numpy as np\n",
    "\n",
    "airbnb = pd.read_csv('/Users/pedrorodriguez/Desktop/Springboard/Capstone_3/Raw Data/listings.csv')\n",
    "\n",
    "airbnb.info()"
   ]
  },
  {
   "source": [
    "### Let's identify which features are necessary to determine how the cleaning fee impacts the monthly booking, and then create a new DataFrame. "
   ],
   "cell_type": "markdown",
   "metadata": {}
  },
  {
   "cell_type": "code",
   "execution_count": 2,
   "metadata": {},
   "outputs": [
    {
     "output_type": "execute_result",
     "data": {
      "text/plain": [
       "        id zipcode   latitude   longitude property_type    price cleaning_fee  \\\n",
       "0   241032   98119  47.636289 -122.371025     Apartment   $85.00          NaN   \n",
       "1   953595   98119  47.639123 -122.365666     Apartment  $150.00       $40.00   \n",
       "2  3308979   98119  47.629724 -122.369483         House  $975.00      $300.00   \n",
       "3  7421966   98119  47.638473 -122.369279     Apartment  $100.00          NaN   \n",
       "4   278830   98119  47.632918 -122.372471         House  $450.00      $125.00   \n",
       "\n",
       "   availability_30  review_scores_rating  review_scores_cleanliness  \n",
       "0               14                  95.0                       10.0  \n",
       "1               13                  96.0                       10.0  \n",
       "2                1                  97.0                       10.0  \n",
       "3                0                   NaN                        NaN  \n",
       "4               30                  92.0                        9.0  "
      ],
      "text/html": "<div>\n<style scoped>\n    .dataframe tbody tr th:only-of-type {\n        vertical-align: middle;\n    }\n\n    .dataframe tbody tr th {\n        vertical-align: top;\n    }\n\n    .dataframe thead th {\n        text-align: right;\n    }\n</style>\n<table border=\"1\" class=\"dataframe\">\n  <thead>\n    <tr style=\"text-align: right;\">\n      <th></th>\n      <th>id</th>\n      <th>zipcode</th>\n      <th>latitude</th>\n      <th>longitude</th>\n      <th>property_type</th>\n      <th>price</th>\n      <th>cleaning_fee</th>\n      <th>availability_30</th>\n      <th>review_scores_rating</th>\n      <th>review_scores_cleanliness</th>\n    </tr>\n  </thead>\n  <tbody>\n    <tr>\n      <th>0</th>\n      <td>241032</td>\n      <td>98119</td>\n      <td>47.636289</td>\n      <td>-122.371025</td>\n      <td>Apartment</td>\n      <td>$85.00</td>\n      <td>NaN</td>\n      <td>14</td>\n      <td>95.0</td>\n      <td>10.0</td>\n    </tr>\n    <tr>\n      <th>1</th>\n      <td>953595</td>\n      <td>98119</td>\n      <td>47.639123</td>\n      <td>-122.365666</td>\n      <td>Apartment</td>\n      <td>$150.00</td>\n      <td>$40.00</td>\n      <td>13</td>\n      <td>96.0</td>\n      <td>10.0</td>\n    </tr>\n    <tr>\n      <th>2</th>\n      <td>3308979</td>\n      <td>98119</td>\n      <td>47.629724</td>\n      <td>-122.369483</td>\n      <td>House</td>\n      <td>$975.00</td>\n      <td>$300.00</td>\n      <td>1</td>\n      <td>97.0</td>\n      <td>10.0</td>\n    </tr>\n    <tr>\n      <th>3</th>\n      <td>7421966</td>\n      <td>98119</td>\n      <td>47.638473</td>\n      <td>-122.369279</td>\n      <td>Apartment</td>\n      <td>$100.00</td>\n      <td>NaN</td>\n      <td>0</td>\n      <td>NaN</td>\n      <td>NaN</td>\n    </tr>\n    <tr>\n      <th>4</th>\n      <td>278830</td>\n      <td>98119</td>\n      <td>47.632918</td>\n      <td>-122.372471</td>\n      <td>House</td>\n      <td>$450.00</td>\n      <td>$125.00</td>\n      <td>30</td>\n      <td>92.0</td>\n      <td>9.0</td>\n    </tr>\n  </tbody>\n</table>\n</div>"
     },
     "metadata": {},
     "execution_count": 2
    }
   ],
   "source": [
    "df = airbnb[['id', 'zipcode', 'latitude','longitude', 'property_type',\n",
    "             'price', 'cleaning_fee', 'availability_30',\n",
    "             'review_scores_rating', 'review_scores_cleanliness']]\n",
    "df.head()"
   ]
  },
  {
   "source": [
    "## Let's start cleaning the new DataFrame. "
   ],
   "cell_type": "markdown",
   "metadata": {}
  },
  {
   "cell_type": "code",
   "execution_count": 4,
   "metadata": {},
   "outputs": [
    {
     "output_type": "stream",
     "name": "stdout",
     "text": [
      "<class 'pandas.core.frame.DataFrame'>\nRangeIndex: 3818 entries, 0 to 3817\nData columns (total 10 columns):\n #   Column                     Non-Null Count  Dtype  \n---  ------                     --------------  -----  \n 0   id                         3818 non-null   int64  \n 1   zipcode                    3811 non-null   object \n 2   latitude                   3818 non-null   float64\n 3   longitude                  3818 non-null   float64\n 4   property_type              3817 non-null   object \n 5   price                      3818 non-null   object \n 6   cleaning_fee               2788 non-null   object \n 7   availability_30            3818 non-null   int64  \n 8   review_scores_rating       3171 non-null   float64\n 9   review_scores_cleanliness  3165 non-null   float64\ndtypes: float64(4), int64(2), object(4)\nmemory usage: 298.4+ KB\n"
     ]
    }
   ],
   "source": [
    "df.info()"
   ]
  },
  {
   "source": [
    "The datasets seem to have missing values in the Cleaning fee because it is 0; the host doesn't price for cleaning. Let's start cleaning this feature by deleting the dollar sign and putting it as a float type for feature analysis. "
   ],
   "cell_type": "markdown",
   "metadata": {}
  },
  {
   "cell_type": "code",
   "execution_count": 6,
   "metadata": {},
   "outputs": [
    {
     "output_type": "execute_result",
     "data": {
      "text/plain": [
       "array([  0.,  40., 300., 125.,  25.,  15., 150.,  95.,  85.,  89.,  35.,\n",
       "       250., 200.,  65., 100.,  80.,  99.,  50.,  20.,  55.,  75.,  30.,\n",
       "        60., 120.,  78.,  12.,  45.,  10., 264., 180.,  90.,   7., 131.,\n",
       "         8.,   5., 185., 199., 175., 110., 155., 111.,  72., 105., 160.,\n",
       "        13., 275.,  28.,  70., 209.,  82., 195., 145.,  22., 225., 169.,\n",
       "       119.,  29., 140.,  61.,  49., 108.,   6.,  26.,  83.,  18.,  19.,\n",
       "       117., 112.,  58.,  16., 170.,  64., 113.,  79., 130.,  96., 149.,\n",
       "       164., 159.,  32., 184., 109., 107., 274., 143.,  88., 229.,  38.,\n",
       "        69., 135.,  59., 101.,  67., 240., 137., 134.,  21., 189.,   9.,\n",
       "        17., 106.,  24., 165.,  39.,  68.,  27.,  87.,  42.,  71., 194.,\n",
       "       129., 210., 178.,  76.,  97., 179.,  52., 142., 230.])"
      ]
     },
     "metadata": {},
     "execution_count": 6
    }
   ],
   "source": [
    "df = df.fillna(0)\n",
    "df['cleaning_fee'] = df['cleaning_fee'].str.replace('$', '').fillna(0).astype(float)\n",
    "df['cleaning_fee'].unique()"
   ]
  },
  {
   "cell_type": "code",
   "execution_count": 7,
   "metadata": {},
   "outputs": [
    {
     "output_type": "execute_result",
     "data": {
      "text/plain": [
       "        id zipcode   latitude   longitude property_type    price  \\\n",
       "0   241032   98119  47.636289 -122.371025     Apartment   $85.00   \n",
       "1   953595   98119  47.639123 -122.365666     Apartment  $150.00   \n",
       "2  3308979   98119  47.629724 -122.369483         House  $975.00   \n",
       "3  7421966   98119  47.638473 -122.369279     Apartment  $100.00   \n",
       "4   278830   98119  47.632918 -122.372471         House  $450.00   \n",
       "\n",
       "   cleaning_fee  availability_30  review_scores_rating  \\\n",
       "0           0.0               14                  95.0   \n",
       "1          40.0               13                  96.0   \n",
       "2         300.0                1                  97.0   \n",
       "3           0.0                0                   0.0   \n",
       "4         125.0               30                  92.0   \n",
       "\n",
       "   review_scores_cleanliness  \n",
       "0                       10.0  \n",
       "1                       10.0  \n",
       "2                       10.0  \n",
       "3                        0.0  \n",
       "4                        9.0  "
      ],
      "text/html": "<div>\n<style scoped>\n    .dataframe tbody tr th:only-of-type {\n        vertical-align: middle;\n    }\n\n    .dataframe tbody tr th {\n        vertical-align: top;\n    }\n\n    .dataframe thead th {\n        text-align: right;\n    }\n</style>\n<table border=\"1\" class=\"dataframe\">\n  <thead>\n    <tr style=\"text-align: right;\">\n      <th></th>\n      <th>id</th>\n      <th>zipcode</th>\n      <th>latitude</th>\n      <th>longitude</th>\n      <th>property_type</th>\n      <th>price</th>\n      <th>cleaning_fee</th>\n      <th>availability_30</th>\n      <th>review_scores_rating</th>\n      <th>review_scores_cleanliness</th>\n    </tr>\n  </thead>\n  <tbody>\n    <tr>\n      <th>0</th>\n      <td>241032</td>\n      <td>98119</td>\n      <td>47.636289</td>\n      <td>-122.371025</td>\n      <td>Apartment</td>\n      <td>$85.00</td>\n      <td>0.0</td>\n      <td>14</td>\n      <td>95.0</td>\n      <td>10.0</td>\n    </tr>\n    <tr>\n      <th>1</th>\n      <td>953595</td>\n      <td>98119</td>\n      <td>47.639123</td>\n      <td>-122.365666</td>\n      <td>Apartment</td>\n      <td>$150.00</td>\n      <td>40.0</td>\n      <td>13</td>\n      <td>96.0</td>\n      <td>10.0</td>\n    </tr>\n    <tr>\n      <th>2</th>\n      <td>3308979</td>\n      <td>98119</td>\n      <td>47.629724</td>\n      <td>-122.369483</td>\n      <td>House</td>\n      <td>$975.00</td>\n      <td>300.0</td>\n      <td>1</td>\n      <td>97.0</td>\n      <td>10.0</td>\n    </tr>\n    <tr>\n      <th>3</th>\n      <td>7421966</td>\n      <td>98119</td>\n      <td>47.638473</td>\n      <td>-122.369279</td>\n      <td>Apartment</td>\n      <td>$100.00</td>\n      <td>0.0</td>\n      <td>0</td>\n      <td>0.0</td>\n      <td>0.0</td>\n    </tr>\n    <tr>\n      <th>4</th>\n      <td>278830</td>\n      <td>98119</td>\n      <td>47.632918</td>\n      <td>-122.372471</td>\n      <td>House</td>\n      <td>$450.00</td>\n      <td>125.0</td>\n      <td>30</td>\n      <td>92.0</td>\n      <td>9.0</td>\n    </tr>\n  </tbody>\n</table>\n</div>"
     },
     "metadata": {},
     "execution_count": 7
    }
   ],
   "source": [
    "df.head()"
   ]
  },
  {
   "source": [
    "## Let's now clean the price feature. "
   ],
   "cell_type": "markdown",
   "metadata": {}
  },
  {
   "cell_type": "code",
   "execution_count": 8,
   "metadata": {},
   "outputs": [
    {
     "output_type": "execute_result",
     "data": {
      "text/plain": [
       "        id zipcode   latitude   longitude property_type  price  cleaning_fee  \\\n",
       "0   241032   98119  47.636289 -122.371025     Apartment   85.0           0.0   \n",
       "1   953595   98119  47.639123 -122.365666     Apartment  150.0          40.0   \n",
       "2  3308979   98119  47.629724 -122.369483         House  975.0         300.0   \n",
       "3  7421966   98119  47.638473 -122.369279     Apartment  100.0           0.0   \n",
       "4   278830   98119  47.632918 -122.372471         House  450.0         125.0   \n",
       "\n",
       "   availability_30  review_scores_rating  review_scores_cleanliness  \n",
       "0               14                  95.0                       10.0  \n",
       "1               13                  96.0                       10.0  \n",
       "2                1                  97.0                       10.0  \n",
       "3                0                   0.0                        0.0  \n",
       "4               30                  92.0                        9.0  "
      ],
      "text/html": "<div>\n<style scoped>\n    .dataframe tbody tr th:only-of-type {\n        vertical-align: middle;\n    }\n\n    .dataframe tbody tr th {\n        vertical-align: top;\n    }\n\n    .dataframe thead th {\n        text-align: right;\n    }\n</style>\n<table border=\"1\" class=\"dataframe\">\n  <thead>\n    <tr style=\"text-align: right;\">\n      <th></th>\n      <th>id</th>\n      <th>zipcode</th>\n      <th>latitude</th>\n      <th>longitude</th>\n      <th>property_type</th>\n      <th>price</th>\n      <th>cleaning_fee</th>\n      <th>availability_30</th>\n      <th>review_scores_rating</th>\n      <th>review_scores_cleanliness</th>\n    </tr>\n  </thead>\n  <tbody>\n    <tr>\n      <th>0</th>\n      <td>241032</td>\n      <td>98119</td>\n      <td>47.636289</td>\n      <td>-122.371025</td>\n      <td>Apartment</td>\n      <td>85.0</td>\n      <td>0.0</td>\n      <td>14</td>\n      <td>95.0</td>\n      <td>10.0</td>\n    </tr>\n    <tr>\n      <th>1</th>\n      <td>953595</td>\n      <td>98119</td>\n      <td>47.639123</td>\n      <td>-122.365666</td>\n      <td>Apartment</td>\n      <td>150.0</td>\n      <td>40.0</td>\n      <td>13</td>\n      <td>96.0</td>\n      <td>10.0</td>\n    </tr>\n    <tr>\n      <th>2</th>\n      <td>3308979</td>\n      <td>98119</td>\n      <td>47.629724</td>\n      <td>-122.369483</td>\n      <td>House</td>\n      <td>975.0</td>\n      <td>300.0</td>\n      <td>1</td>\n      <td>97.0</td>\n      <td>10.0</td>\n    </tr>\n    <tr>\n      <th>3</th>\n      <td>7421966</td>\n      <td>98119</td>\n      <td>47.638473</td>\n      <td>-122.369279</td>\n      <td>Apartment</td>\n      <td>100.0</td>\n      <td>0.0</td>\n      <td>0</td>\n      <td>0.0</td>\n      <td>0.0</td>\n    </tr>\n    <tr>\n      <th>4</th>\n      <td>278830</td>\n      <td>98119</td>\n      <td>47.632918</td>\n      <td>-122.372471</td>\n      <td>House</td>\n      <td>450.0</td>\n      <td>125.0</td>\n      <td>30</td>\n      <td>92.0</td>\n      <td>9.0</td>\n    </tr>\n  </tbody>\n</table>\n</div>"
     },
     "metadata": {},
     "execution_count": 8
    }
   ],
   "source": [
    "df['price'] = df['price'].str.replace('$', '').fillna(0)\n",
    "df['price'] = df['price'].str.replace(',', '').astype(float)\n",
    "df.head()"
   ]
  },
  {
   "source": [
    "## Let's now clean the zip code feature. "
   ],
   "cell_type": "markdown",
   "metadata": {}
  },
  {
   "cell_type": "code",
   "execution_count": 10,
   "metadata": {},
   "outputs": [
    {
     "output_type": "execute_result",
     "data": {
      "text/plain": [
       "array(['98119', '98109', '98107', '98117', 0, '98103', '98105', '98115',\n",
       "       '98101', '98122', '98112', '98144', '99\\n98122', '98121', '98102',\n",
       "       '98199', '98104', '98134', '98136', '98126', '98146', '98116',\n",
       "       '98177', '98118', '98108', '98133', '98106', '98178', '98125'],\n",
       "      dtype=object)"
      ]
     },
     "metadata": {},
     "execution_count": 10
    }
   ],
   "source": [
    "df['zipcode'].unique()"
   ]
  },
  {
   "cell_type": "code",
   "execution_count": 11,
   "metadata": {},
   "outputs": [],
   "source": [
    "df['zipcode'] = df['zipcode'].str.replace('99\\n98122', '98122').fillna(0)\n",
    "df['zipcode'] = df['zipcode'].astype(int)"
   ]
  },
  {
   "cell_type": "code",
   "execution_count": 12,
   "metadata": {},
   "outputs": [
    {
     "output_type": "stream",
     "name": "stdout",
     "text": [
      "<class 'pandas.core.frame.DataFrame'>\nRangeIndex: 3818 entries, 0 to 3817\nData columns (total 10 columns):\n #   Column                     Non-Null Count  Dtype  \n---  ------                     --------------  -----  \n 0   id                         3818 non-null   int64  \n 1   zipcode                    3818 non-null   int64  \n 2   latitude                   3818 non-null   float64\n 3   longitude                  3818 non-null   float64\n 4   property_type              3818 non-null   object \n 5   price                      3818 non-null   float64\n 6   cleaning_fee               3818 non-null   float64\n 7   availability_30            3818 non-null   int64  \n 8   review_scores_rating       3818 non-null   float64\n 9   review_scores_cleanliness  3818 non-null   float64\ndtypes: float64(6), int64(3), object(1)\nmemory usage: 298.4+ KB\n"
     ]
    }
   ],
   "source": [
    "df.info()"
   ]
  },
  {
   "source": [
    "## Summary\n",
    "\n",
    "As we can see, we got all features with the same lenght of data. We got the features that we need with the correspnding data type to analyze how the cleaning fee impact the booking frequency."
   ],
   "cell_type": "markdown",
   "metadata": {}
  }
 ]
}
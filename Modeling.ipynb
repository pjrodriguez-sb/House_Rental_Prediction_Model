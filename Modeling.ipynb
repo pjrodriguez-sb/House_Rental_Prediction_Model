{
 "cells": [
  {
   "cell_type": "markdown",
   "metadata": {},
   "source": [
    "# In-Depth Analysis/Machine Learning\n",
    "\n",
    "## Capstone Project 3: Predicting House prices in Seattle\n",
    "\n",
    "\n",
    "-"
   ]
  },
  {
   "cell_type": "markdown",
   "metadata": {},
   "source": [
    "In the **Pre-processing part** we already determine which features will be used to create the Model. We need to select a way to measure the reult and regression problems use certain evaluation metrics such as mean squared error (MSE)."
   ]
  },
  {
   "cell_type": "code",
   "execution_count": 1,
   "metadata": {},
   "outputs": [],
   "source": [
    "import pandas as pd \n",
    "import numpy as np\n",
    "import matplotlib.pyplot as plt\n",
    "import seaborn as sns\n",
    "from termcolor import colored\n",
    "from termcolor import colored as cl\n",
    "import scipy.stats as stats\n",
    "from scipy.stats import uniform, loguniform\n",
    "from sklearn.linear_model import LinearRegression, ElasticNet, ElasticNetCV\n",
    "from sklearn.model_selection import train_test_split, cross_val_score, cross_val_predict, \\\n",
    "    GridSearchCV, RandomizedSearchCV, KFold\n",
    "from sklearn.decomposition import PCA\n",
    "\n",
    "from sklearn.preprocessing import RobustScaler\n",
    "from sklearn.metrics import mean_absolute_error, mean_squared_error, r2_score\n",
    "from sklearn.pipeline import make_pipeline, Pipeline\n",
    "\n",
    "from sklearn.model_selection import train_test_split\n",
    "\n",
    "from xgboost import XGBRegressor"
   ]
  },
  {
   "cell_type": "code",
   "execution_count": 2,
   "metadata": {},
   "outputs": [
    {
     "name": "stdout",
     "output_type": "stream",
     "text": [
      "<class 'pandas.core.frame.DataFrame'>\n",
      "RangeIndex: 3817 entries, 0 to 3816\n",
      "Data columns (total 15 columns):\n",
      " #   Column                     Non-Null Count  Dtype  \n",
      "---  ------                     --------------  -----  \n",
      " 0   Unnamed: 0                 3817 non-null   int64  \n",
      " 1   id                         3817 non-null   int64  \n",
      " 2   latitude                   3817 non-null   float64\n",
      " 3   longitude                  3817 non-null   float64\n",
      " 4   zipcode                    3817 non-null   int64  \n",
      " 5   property_type              3817 non-null   object \n",
      " 6   room_type                  3817 non-null   object \n",
      " 7   price                      3817 non-null   float64\n",
      " 8   accommodates               3817 non-null   int64  \n",
      " 9   cleaning_fee               3817 non-null   float64\n",
      " 10  availability_30            3817 non-null   int64  \n",
      " 11  bathrooms                  3817 non-null   float64\n",
      " 12  bedrooms                   3817 non-null   float64\n",
      " 13  review_scores_rating       3817 non-null   float64\n",
      " 14  review_scores_cleanliness  3817 non-null   float64\n",
      "dtypes: float64(8), int64(5), object(2)\n",
      "memory usage: 447.4+ KB\n"
     ]
    }
   ],
   "source": [
    "df = pd.read_csv('/Users/pedrorodriguez/Desktop/Springboard/Capstone_3/Step 4- Pre Processing/listing_data.csv')\n",
    "df.info()"
   ]
  },
  {
   "cell_type": "code",
   "execution_count": 3,
   "metadata": {},
   "outputs": [
    {
     "data": {
      "text/html": [
       "<div>\n",
       "<style scoped>\n",
       "    .dataframe tbody tr th:only-of-type {\n",
       "        vertical-align: middle;\n",
       "    }\n",
       "\n",
       "    .dataframe tbody tr th {\n",
       "        vertical-align: top;\n",
       "    }\n",
       "\n",
       "    .dataframe thead th {\n",
       "        text-align: right;\n",
       "    }\n",
       "</style>\n",
       "<table border=\"1\" class=\"dataframe\">\n",
       "  <thead>\n",
       "    <tr style=\"text-align: right;\">\n",
       "      <th></th>\n",
       "      <th>Unnamed: 0</th>\n",
       "      <th>id</th>\n",
       "      <th>latitude</th>\n",
       "      <th>longitude</th>\n",
       "      <th>zipcode</th>\n",
       "      <th>price</th>\n",
       "      <th>accommodates</th>\n",
       "      <th>cleaning_fee</th>\n",
       "      <th>availability_30</th>\n",
       "      <th>bathrooms</th>\n",
       "      <th>bedrooms</th>\n",
       "      <th>review_scores_rating</th>\n",
       "      <th>review_scores_cleanliness</th>\n",
       "    </tr>\n",
       "  </thead>\n",
       "  <tbody>\n",
       "    <tr>\n",
       "      <th>2</th>\n",
       "      <td>2</td>\n",
       "      <td>3308979</td>\n",
       "      <td>47.629724</td>\n",
       "      <td>-122.369483</td>\n",
       "      <td>98119</td>\n",
       "      <td>975.0</td>\n",
       "      <td>11</td>\n",
       "      <td>300.0</td>\n",
       "      <td>1</td>\n",
       "      <td>4.5</td>\n",
       "      <td>5.0</td>\n",
       "      <td>97.0</td>\n",
       "      <td>10.0</td>\n",
       "    </tr>\n",
       "    <tr>\n",
       "      <th>4</th>\n",
       "      <td>4</td>\n",
       "      <td>278830</td>\n",
       "      <td>47.632918</td>\n",
       "      <td>-122.372471</td>\n",
       "      <td>98119</td>\n",
       "      <td>450.0</td>\n",
       "      <td>6</td>\n",
       "      <td>125.0</td>\n",
       "      <td>30</td>\n",
       "      <td>2.0</td>\n",
       "      <td>3.0</td>\n",
       "      <td>92.0</td>\n",
       "      <td>9.0</td>\n",
       "    </tr>\n",
       "    <tr>\n",
       "      <th>5</th>\n",
       "      <td>5</td>\n",
       "      <td>5956968</td>\n",
       "      <td>47.630525</td>\n",
       "      <td>-122.366174</td>\n",
       "      <td>98119</td>\n",
       "      <td>120.0</td>\n",
       "      <td>2</td>\n",
       "      <td>40.0</td>\n",
       "      <td>0</td>\n",
       "      <td>1.0</td>\n",
       "      <td>1.0</td>\n",
       "      <td>95.0</td>\n",
       "      <td>10.0</td>\n",
       "    </tr>\n",
       "    <tr>\n",
       "      <th>6</th>\n",
       "      <td>6</td>\n",
       "      <td>1909058</td>\n",
       "      <td>47.636605</td>\n",
       "      <td>-122.368519</td>\n",
       "      <td>98119</td>\n",
       "      <td>80.0</td>\n",
       "      <td>2</td>\n",
       "      <td>0.0</td>\n",
       "      <td>20</td>\n",
       "      <td>1.0</td>\n",
       "      <td>1.0</td>\n",
       "      <td>99.0</td>\n",
       "      <td>10.0</td>\n",
       "    </tr>\n",
       "    <tr>\n",
       "      <th>10</th>\n",
       "      <td>10</td>\n",
       "      <td>175576</td>\n",
       "      <td>47.635482</td>\n",
       "      <td>-122.358478</td>\n",
       "      <td>98119</td>\n",
       "      <td>95.0</td>\n",
       "      <td>2</td>\n",
       "      <td>15.0</td>\n",
       "      <td>0</td>\n",
       "      <td>1.0</td>\n",
       "      <td>1.0</td>\n",
       "      <td>97.0</td>\n",
       "      <td>10.0</td>\n",
       "    </tr>\n",
       "  </tbody>\n",
       "</table>\n",
       "</div>"
      ],
      "text/plain": [
       "    Unnamed: 0       id   latitude   longitude  zipcode  price  accommodates  \\\n",
       "2            2  3308979  47.629724 -122.369483    98119  975.0            11   \n",
       "4            4   278830  47.632918 -122.372471    98119  450.0             6   \n",
       "5            5  5956968  47.630525 -122.366174    98119  120.0             2   \n",
       "6            6  1909058  47.636605 -122.368519    98119   80.0             2   \n",
       "10          10   175576  47.635482 -122.358478    98119   95.0             2   \n",
       "\n",
       "    cleaning_fee  availability_30  bathrooms  bedrooms  review_scores_rating  \\\n",
       "2          300.0                1        4.5       5.0                  97.0   \n",
       "4          125.0               30        2.0       3.0                  92.0   \n",
       "5           40.0                0        1.0       1.0                  95.0   \n",
       "6            0.0               20        1.0       1.0                  99.0   \n",
       "10          15.0                0        1.0       1.0                  97.0   \n",
       "\n",
       "    review_scores_cleanliness  \n",
       "2                        10.0  \n",
       "4                         9.0  \n",
       "5                        10.0  \n",
       "6                        10.0  \n",
       "10                       10.0  "
      ]
     },
     "execution_count": 3,
     "metadata": {},
     "output_type": "execute_result"
    }
   ],
   "source": [
    "house = df[df['property_type'] == 'House']\n",
    "del house['property_type']\n",
    "del house['room_type']\n",
    "house.head()"
   ]
  },
  {
   "cell_type": "code",
   "execution_count": 4,
   "metadata": {
    "scrolled": true
   },
   "outputs": [
    {
     "data": {
      "text/plain": [
       "<matplotlib.axes._subplots.AxesSubplot at 0x7fc38c5679d0>"
      ]
     },
     "execution_count": 4,
     "metadata": {},
     "output_type": "execute_result"
    },
    {
     "data": {
      "image/png": "[encoded data removed]",
      "text/plain": [
       "<Figure size 432x288 with 1 Axes>"
      ]
     },
     "metadata": {
      "needs_background": "light"
     },
     "output_type": "display_data"
    }
   ],
   "source": [
    "house.plot(kind='scatter', x='longitude', y='latitude', alpha=0.1)"
   ]
  },
  {
   "cell_type": "markdown",
   "metadata": {},
   "source": [
    "### Split to train and test data"
   ]
  },
  {
   "cell_type": "markdown",
   "metadata": {},
   "source": [
    "Let scale the data with Standard Scale to better model performance. Before the split, the data by train and test sets. "
   ]
  },
  {
   "cell_type": "code",
   "execution_count": 5,
   "metadata": {},
   "outputs": [],
   "source": [
    "from sklearn.preprocessing import StandardScaler\n",
    "\n",
    "scaler = StandardScaler()"
   ]
  },
  {
   "cell_type": "code",
   "execution_count": 6,
   "metadata": {},
   "outputs": [
    {
     "data": {
      "text/html": [
       "<div>\n",
       "<style scoped>\n",
       "    .dataframe tbody tr th:only-of-type {\n",
       "        vertical-align: middle;\n",
       "    }\n",
       "\n",
       "    .dataframe tbody tr th {\n",
       "        vertical-align: top;\n",
       "    }\n",
       "\n",
       "    .dataframe thead th {\n",
       "        text-align: right;\n",
       "    }\n",
       "</style>\n",
       "<table border=\"1\" class=\"dataframe\">\n",
       "  <thead>\n",
       "    <tr style=\"text-align: right;\">\n",
       "      <th></th>\n",
       "      <th>Unnamed: 0</th>\n",
       "      <th>id</th>\n",
       "      <th>latitude</th>\n",
       "      <th>longitude</th>\n",
       "      <th>zipcode</th>\n",
       "      <th>price</th>\n",
       "      <th>accommodates</th>\n",
       "      <th>cleaning_fee</th>\n",
       "      <th>availability_30</th>\n",
       "      <th>bathrooms</th>\n",
       "      <th>bedrooms</th>\n",
       "      <th>review_scores_rating</th>\n",
       "      <th>review_scores_cleanliness</th>\n",
       "    </tr>\n",
       "  </thead>\n",
       "  <tbody>\n",
       "    <tr>\n",
       "      <th>0</th>\n",
       "      <td>-1.707572</td>\n",
       "      <td>-0.618126</td>\n",
       "      <td>-0.032361</td>\n",
       "      <td>-0.990443</td>\n",
       "      <td>0.041822</td>\n",
       "      <td>7.886488</td>\n",
       "      <td>3.056870</td>\n",
       "      <td>4.376806</td>\n",
       "      <td>-1.304104</td>\n",
       "      <td>4.422534</td>\n",
       "      <td>3.298021</td>\n",
       "      <td>0.488928</td>\n",
       "      <td>0.549869</td>\n",
       "    </tr>\n",
       "    <tr>\n",
       "      <th>1</th>\n",
       "      <td>-1.705824</td>\n",
       "      <td>-1.630751</td>\n",
       "      <td>0.028767</td>\n",
       "      <td>-1.070547</td>\n",
       "      <td>0.041822</td>\n",
       "      <td>2.972926</td>\n",
       "      <td>0.979071</td>\n",
       "      <td>1.331123</td>\n",
       "      <td>1.056265</td>\n",
       "      <td>0.864716</td>\n",
       "      <td>1.353322</td>\n",
       "      <td>0.346014</td>\n",
       "      <td>0.269845</td>\n",
       "    </tr>\n",
       "    <tr>\n",
       "      <th>2</th>\n",
       "      <td>-1.704950</td>\n",
       "      <td>0.266788</td>\n",
       "      <td>-0.017026</td>\n",
       "      <td>-0.901714</td>\n",
       "      <td>0.041822</td>\n",
       "      <td>-0.115599</td>\n",
       "      <td>-0.683168</td>\n",
       "      <td>-0.148209</td>\n",
       "      <td>-1.385496</td>\n",
       "      <td>-0.558411</td>\n",
       "      <td>-0.591377</td>\n",
       "      <td>0.431762</td>\n",
       "      <td>0.549869</td>\n",
       "    </tr>\n",
       "    <tr>\n",
       "      <th>3</th>\n",
       "      <td>-1.704076</td>\n",
       "      <td>-1.085956</td>\n",
       "      <td>0.099326</td>\n",
       "      <td>-0.964591</td>\n",
       "      <td>0.041822</td>\n",
       "      <td>-0.489966</td>\n",
       "      <td>-0.683168</td>\n",
       "      <td>-0.844366</td>\n",
       "      <td>0.242344</td>\n",
       "      <td>-0.558411</td>\n",
       "      <td>-0.591377</td>\n",
       "      <td>0.546094</td>\n",
       "      <td>0.549869</td>\n",
       "    </tr>\n",
       "    <tr>\n",
       "      <th>4</th>\n",
       "      <td>-1.700579</td>\n",
       "      <td>-1.665257</td>\n",
       "      <td>0.077821</td>\n",
       "      <td>-0.695349</td>\n",
       "      <td>0.041822</td>\n",
       "      <td>-0.349578</td>\n",
       "      <td>-0.683168</td>\n",
       "      <td>-0.583307</td>\n",
       "      <td>-1.385496</td>\n",
       "      <td>-0.558411</td>\n",
       "      <td>-0.591377</td>\n",
       "      <td>0.488928</td>\n",
       "      <td>0.549869</td>\n",
       "    </tr>\n",
       "  </tbody>\n",
       "</table>\n",
       "</div>"
      ],
      "text/plain": [
       "   Unnamed: 0        id  latitude  longitude   zipcode     price  \\\n",
       "0   -1.707572 -0.618126 -0.032361  -0.990443  0.041822  7.886488   \n",
       "1   -1.705824 -1.630751  0.028767  -1.070547  0.041822  2.972926   \n",
       "2   -1.704950  0.266788 -0.017026  -0.901714  0.041822 -0.115599   \n",
       "3   -1.704076 -1.085956  0.099326  -0.964591  0.041822 -0.489966   \n",
       "4   -1.700579 -1.665257  0.077821  -0.695349  0.041822 -0.349578   \n",
       "\n",
       "   accommodates  cleaning_fee  availability_30  bathrooms  bedrooms  \\\n",
       "0      3.056870      4.376806        -1.304104   4.422534  3.298021   \n",
       "1      0.979071      1.331123         1.056265   0.864716  1.353322   \n",
       "2     -0.683168     -0.148209        -1.385496  -0.558411 -0.591377   \n",
       "3     -0.683168     -0.844366         0.242344  -0.558411 -0.591377   \n",
       "4     -0.683168     -0.583307        -1.385496  -0.558411 -0.591377   \n",
       "\n",
       "   review_scores_rating  review_scores_cleanliness  \n",
       "0              0.488928                   0.549869  \n",
       "1              0.346014                   0.269845  \n",
       "2              0.431762                   0.549869  \n",
       "3              0.546094                   0.549869  \n",
       "4              0.488928                   0.549869  "
      ]
     },
     "execution_count": 6,
     "metadata": {},
     "output_type": "execute_result"
    }
   ],
   "source": [
    "columns = house.columns\n",
    "house_scaled = pd.DataFrame(scaler.fit_transform(house), columns= columns)\n",
    "house_scaled.head()"
   ]
  },
  {
   "cell_type": "code",
   "execution_count": 7,
   "metadata": {},
   "outputs": [],
   "source": [
    "from sklearn.model_selection import train_test_split\n",
    "\n",
    "X = house_scaled[['longitude', 'latitude', 'accommodates', 'availability_30','cleaning_fee', 'bedrooms', 'bathrooms']].values\n",
    "y = house_scaled['price'].values\n",
    "\n",
    "X_train, X_test, y_train, y_test = train_test_split(X, y, test_size = 0.2, random_state = 0)"
   ]
  },
  {
   "cell_type": "code",
   "execution_count": 8,
   "metadata": {},
   "outputs": [],
   "source": [
    "def calculate_residual_percentile(pred, actual, percentile):\n",
    "    \"\"\"Calculate percentile bounds of positive and negative residuals\"\"\"\n",
    "    import numpy as np\n",
    "    resid = actual - pred\n",
    "    \n",
    "    #Create Positive and Negative Condition Arrays\n",
    "    condition_pos = resid > 0\n",
    "    condition_neg = resid < 0\n",
    "    \n",
    "    #Create arrays for positive and negative residuals\n",
    "    pos_residuals = np.extract(condition_pos, resid)\n",
    "    neg_residuals = np.extract(condition_neg, resid)\n",
    "    \n",
    "    #Calculate Percentile\n",
    "    pos_percentile = np.percentile(pos_residuals, percentile)\n",
    "    neg_percentile = np.percentile(neg_residuals, 100-percentile)\n",
    "    pos_percentile = round(pos_percentile,4)\n",
    "    neg_percentile = round(neg_percentile,4)\n",
    "    return neg_percentile, pos_percentile\n",
    " "
   ]
  },
  {
   "cell_type": "markdown",
   "metadata": {},
   "source": [
    "## Modeling"
   ]
  },
  {
   "cell_type": "markdown",
   "metadata": {},
   "source": [
    "The data was split into train, validation, and test sets, as I plan to use the validation set for hyperparameter tuning. \n",
    "\n",
    "First I will run a linear regression, random forest, and gradient boosting model with the defaults and no tuning to get some baseline scores.\n",
    "\n",
    "#### Evaluate performance based on the following metrics:\n",
    "\n",
    "- Mean Absolute Error (MAE): represents the difference between the original and predicted values extracted by averaged the absolute difference over the data set.\n",
    "\n",
    "- Root Mean Squared Error (RMSE): is the error rate by the square root of MSE.\n",
    "\n",
    "- R-squared (Coefficient of determination): The coefficient of how well the values fit compared to the original values. The value from 0 to 1 interpreted as percentages. The higher the value is, the better the model is.\n",
    "\n"
   ]
  },
  {
   "cell_type": "markdown",
   "metadata": {},
   "source": [
    "### Linear Regression\n",
    "\n",
    "Regression analysis is one of the most important fields in statistics and machine learning. There are many regression methods available. Linear regression is probably one of the most important and widely used regression techniques. It’s among the simplest regression methods. One of its main advantages is the ease of interpreting results."
   ]
  },
  {
   "cell_type": "code",
   "execution_count": 9,
   "metadata": {},
   "outputs": [],
   "source": [
    "from sklearn.linear_model import LinearRegression\n",
    "from sklearn.metrics import mean_squared_error\n",
    "\n",
    "lr = LinearRegression()\n",
    "lr.fit(X_train, y_train)\n",
    "lr_pred = lr.predict(X_test)"
   ]
  },
  {
   "cell_type": "code",
   "execution_count": 10,
   "metadata": {},
   "outputs": [
    {
     "name": "stdout",
     "output_type": "stream",
     "text": [
      "Base Linear Regression Train Score:       0.6426944183198834\n",
      "Base Linear Regression Test Score:        0.6042505328338856\n",
      "Base Linear Regression MAE:               0.4023655280819865\n",
      "Base Linear Regression RMSE:              0.7330551811413651\n"
     ]
    }
   ],
   "source": [
    "lr_predictions = lr.predict(X_test)\n",
    "lr_train_score = lr.score(X_train, y_train)\n",
    "lr_test_score = lr.score(X_test, y_test)\n",
    "lr_mae = np.mean(abs(lr_predictions - y_test))\n",
    "lr_rmse = np.sqrt(mean_squared_error(y_test, lr_predictions))\n",
    "\n",
    "print('Base Linear Regression Train Score:      ', lr_train_score)\n",
    "print('Base Linear Regression Test Score:       ', lr_test_score)\n",
    "print('Base Linear Regression MAE:              ',lr_mae)\n",
    "print('Base Linear Regression RMSE:             ',lr_rmse)"
   ]
  },
  {
   "cell_type": "markdown",
   "metadata": {},
   "source": [
    "The Linear Regression has a Test score of 0.60. This score is weak but is still capable of solving a real problem."
   ]
  },
  {
   "cell_type": "code",
   "execution_count": 11,
   "metadata": {},
   "outputs": [
    {
     "data": {
      "image/png": "[encoded data removed]",
      "text/plain": [
       "<Figure size 432x288 with 1 Axes>"
      ]
     },
     "metadata": {
      "needs_background": "light"
     },
     "output_type": "display_data"
    }
   ],
   "source": [
    "sns.residplot(x = lr_predictions, y = y_test - lr_predictions)\n",
    "plt.title('Residuals, Linear Regression Base Model', size = 12)\n",
    "plt.ylabel('Residuals', size = 10)\n",
    "plt.xlabel('Predicted ROI', size = 10)\n",
    "plt.show()"
   ]
  },
  {
   "cell_type": "code",
   "execution_count": 12,
   "metadata": {},
   "outputs": [
    {
     "data": {
      "image/png": "[encoded data removed]",
      "text/plain": [
       "<Figure size 432x288 with 1 Axes>"
      ]
     },
     "metadata": {
      "needs_background": "light"
     },
     "output_type": "display_data"
    }
   ],
   "source": [
    "plt.hist(y_test - lr_predictions, bins = np.arange(-4, 5))\n",
    "plt.title('Residual Distribution, Linear Regression Base Model', size= 12)\n",
    "plt.ylabel('Residuals', size = 10)\n",
    "plt.xlabel('Predicted ROI', size = 10)\n",
    "plt.show()"
   ]
  },
  {
   "cell_type": "code",
   "execution_count": 13,
   "metadata": {},
   "outputs": [
    {
     "name": "stdout",
     "output_type": "stream",
     "text": [
      "Base Linear Regression Residuals, 90th percentile:  (-0.5697, 1.2624)\n"
     ]
    }
   ],
   "source": [
    "lr_90_percentile = calculate_residual_percentile(lr_predictions, y_test ,90)\n",
    "print('Base Linear Regression Residuals, 90th percentile: ', lr_90_percentile)"
   ]
  },
  {
   "cell_type": "markdown",
   "metadata": {},
   "source": [
    "The residuals are centered bellow zero and have a long tail towards the positive side."
   ]
  },
  {
   "cell_type": "markdown",
   "metadata": {},
   "source": [
    "### Random Forest\n",
    "\n",
    "A Random Forest is an ensemble technique capable of performing both regression and classification tasks with the use of multiple decision trees and a technique."
   ]
  },
  {
   "cell_type": "code",
   "execution_count": 14,
   "metadata": {},
   "outputs": [
    {
     "data": {
      "text/plain": [
       "RandomForestRegressor(n_jobs=-1, oob_score=True, random_state=0)"
      ]
     },
     "execution_count": 14,
     "metadata": {},
     "output_type": "execute_result"
    }
   ],
   "source": [
    "from sklearn.ensemble import RandomForestRegressor\n",
    "\n",
    "rf = RandomForestRegressor(n_jobs = -1, n_estimators = 100, random_state = 0, oob_score = True)\n",
    "rf.fit(X_train, y_train)"
   ]
  },
  {
   "cell_type": "code",
   "execution_count": 15,
   "metadata": {},
   "outputs": [],
   "source": [
    "rf_prediction = rf.predict(X_test)\n",
    "rf_train_score = rf.score(X_train, y_train)\n",
    "rf_test_score = rf.score(X_test, y_test)\n",
    "rf_mae = np.mean(abs(rf_prediction - y_test))\n",
    "rf_rmse = np.sqrt(mean_squared_error(y_test, rf_prediction))"
   ]
  },
  {
   "cell_type": "code",
   "execution_count": 16,
   "metadata": {},
   "outputs": [
    {
     "name": "stdout",
     "output_type": "stream",
     "text": [
      "Base Random Forest Train Score:       0.94900097859599\n",
      "Base Random Forest Test Score:        0.6108714502618214\n",
      "Base Random Forest MAE:               0.3973408482522743\n",
      "Base Random Forest RMSE:              0.7268972836866974\n"
     ]
    }
   ],
   "source": [
    "print('Base Random Forest Train Score:      ', rf_train_score)\n",
    "print('Base Random Forest Test Score:       ', rf_test_score)\n",
    "print('Base Random Forest MAE:              ', rf_mae)\n",
    "print('Base Random Forest RMSE:             ', rf_rmse)"
   ]
  },
  {
   "cell_type": "markdown",
   "metadata": {},
   "source": [
    "The random forest model has a Test score of 0.59. This score is weak meaning we need to look how to improve the score."
   ]
  },
  {
   "cell_type": "code",
   "execution_count": 17,
   "metadata": {},
   "outputs": [
    {
     "data": {
      "image/png": "[encoded data removed]",
      "text/plain": [
       "<Figure size 432x288 with 1 Axes>"
      ]
     },
     "metadata": {
      "needs_background": "light"
     },
     "output_type": "display_data"
    }
   ],
   "source": [
    "sns.residplot(x = rf_prediction, y = y_test - rf_prediction)\n",
    "plt.title('Residuals, Random Forest Regression Base Model', size = 12)\n",
    "plt.ylabel('Residuals', size = 10)\n",
    "plt.xlabel('Predicted ROI', size = 10)\n",
    "plt.show()"
   ]
  },
  {
   "cell_type": "code",
   "execution_count": 18,
   "metadata": {},
   "outputs": [
    {
     "data": {
      "image/png": "[encoded data removed]",
      "text/plain": [
       "<Figure size 432x288 with 1 Axes>"
      ]
     },
     "metadata": {
      "needs_background": "light"
     },
     "output_type": "display_data"
    }
   ],
   "source": [
    "plt.hist(y_test - rf_prediction, bins = np.arange(-6, 8))\n",
    "plt.title('Residual Distribution, Random Forest Regression Base Model', size = 12)\n",
    "plt.ylabel('Residuals', size = 10)\n",
    "plt.xlabel('Predicted ROI', size = 10)\n",
    "plt.show()"
   ]
  },
  {
   "cell_type": "code",
   "execution_count": 19,
   "metadata": {},
   "outputs": [
    {
     "name": "stdout",
     "output_type": "stream",
     "text": [
      "Base Random Forest Residuals, 90th percentile:  (-0.6789, 0.981)\n"
     ]
    }
   ],
   "source": [
    "rf_90_percentile = calculate_residual_percentile(rf_prediction, y_test ,90)\n",
    "print('Base Random Forest Residuals, 90th percentile: ', rf_90_percentile)"
   ]
  },
  {
   "cell_type": "markdown",
   "metadata": {},
   "source": [
    "The residuals are centered just below zero, indicating prices with where the model over-estimating the low ROI. 90 Percent of the residuals are between 0.67 and 0.98 ROI."
   ]
  },
  {
   "cell_type": "markdown",
   "metadata": {},
   "source": [
    "### Gradient Boosting\n",
    "\n",
    "Gradient boosting is also known as gradient tree boosting, stochastic gradient boosting (an extension), and gradient boosting machines, or GBM for short.\n",
    "\n",
    "The algorithm provides hyperparameters that should be tuned for a specific dataset.\n",
    "\n",
    "- The number of trees or estimators in the model.\n",
    "- The learning rate of the model.\n",
    "- The row and column sampling rate for stochastic models.\n",
    "- The maximum tree depth.\n",
    "- The minimum tree weight.\n",
    "- The regularization terms alpha and lambda.\n",
    "\n"
   ]
  },
  {
   "cell_type": "code",
   "execution_count": 20,
   "metadata": {},
   "outputs": [
    {
     "data": {
      "text/plain": [
       "GradientBoostingRegressor(random_state=0)"
      ]
     },
     "execution_count": 20,
     "metadata": {},
     "output_type": "execute_result"
    }
   ],
   "source": [
    "from sklearn.ensemble import GradientBoostingRegressor\n",
    "\n",
    "boost = GradientBoostingRegressor(random_state = 0)\n",
    "boost.fit(X_train, y_train)"
   ]
  },
  {
   "cell_type": "code",
   "execution_count": 21,
   "metadata": {},
   "outputs": [
    {
     "name": "stdout",
     "output_type": "stream",
     "text": [
      "Base Gradient Boost Train Score:      0.821127369404369\n",
      "Base Gradient Boost Test Score:       0.6389439502251337\n",
      "Base Gradient Boost MAE:              0.38321139865450515\n",
      "Base Gradient Boost RSME:             0.7001866262970871\n"
     ]
    }
   ],
   "source": [
    "boost_predictions = boost.predict(X_test)\n",
    "boost_train_score = boost.score(X_train, y_train)\n",
    "boost_test_score = boost.score(X_test, y_test)\n",
    "boost_mae = np.mean(abs(boost_predictions - y_test))\n",
    "boost_rmse = np.sqrt(mean_squared_error(y_test, boost_predictions))\n",
    "\n",
    "print('Base Gradient Boost Train Score:     ', boost_train_score)\n",
    "print('Base Gradient Boost Test Score:      ', boost_test_score)\n",
    "print('Base Gradient Boost MAE:             ', boost_mae)\n",
    "print('Base Gradient Boost RSME:            ',boost_rmse)"
   ]
  },
  {
   "cell_type": "markdown",
   "metadata": {},
   "source": [
    "The Gradient Boosting has a much better test score of 0.62 compared to the Lineal Rigression which scored 0.60."
   ]
  },
  {
   "cell_type": "code",
   "execution_count": 22,
   "metadata": {},
   "outputs": [
    {
     "data": {
      "image/png": "[encoded data removed]",
      "text/plain": [
       "<Figure size 432x288 with 1 Axes>"
      ]
     },
     "metadata": {
      "needs_background": "light"
     },
     "output_type": "display_data"
    }
   ],
   "source": [
    "sns.residplot(x = boost_predictions, y = y_test - boost_predictions)\n",
    "plt.title('Residuals, Gradient Boosting Base Model', size = 12)\n",
    "plt.ylabel('Residuals', size = 10)\n",
    "plt.xlabel('Predicted ROI', size = 10)\n",
    "plt.show()"
   ]
  },
  {
   "cell_type": "code",
   "execution_count": 23,
   "metadata": {},
   "outputs": [
    {
     "data": {
      "image/png": "[encoded data removed]",
      "text/plain": [
       "<Figure size 432x288 with 1 Axes>"
      ]
     },
     "metadata": {
      "needs_background": "light"
     },
     "output_type": "display_data"
    }
   ],
   "source": [
    "plt.hist(y_test - boost_predictions, bins = np.arange(-6, 8))\n",
    "plt.title('Residual Distribution, Gradient Boosting Base Model', size = 12)\n",
    "plt.ylabel('Residuals', size = 10)\n",
    "plt.xlabel('Predicted ROI', size = 10)\n",
    "plt.show()"
   ]
  },
  {
   "cell_type": "code",
   "execution_count": 24,
   "metadata": {},
   "outputs": [
    {
     "name": "stdout",
     "output_type": "stream",
     "text": [
      "Base Random Forest Residuals, 90th percentile:  (-0.6152, 1.0294)\n"
     ]
    }
   ],
   "source": [
    "rf_90_percentile = calculate_residual_percentile(boost_predictions, y_test ,90)\n",
    "print('Base Random Forest Residuals, 90th percentile: ', rf_90_percentile)"
   ]
  },
  {
   "cell_type": "markdown",
   "metadata": {},
   "source": [
    "The residuals are centered bellow zero and have a long tail towards the positive side."
   ]
  },
  {
   "cell_type": "markdown",
   "metadata": {},
   "source": [
    "### Extreme Gradient Boosting\n",
    "\n",
    "Unlike Gradient Boost, XGBoost makes use of regularization parameters that helps against overfitting."
   ]
  },
  {
   "cell_type": "code",
   "execution_count": 25,
   "metadata": {},
   "outputs": [],
   "source": [
    "from xgboost import XGBRegressor"
   ]
  },
  {
   "cell_type": "code",
   "execution_count": 26,
   "metadata": {},
   "outputs": [
    {
     "data": {
      "text/plain": [
       "XGBRegressor(base_score=0.5, booster='gbtree', colsample_bylevel=1,\n",
       "             colsample_bynode=1, colsample_bytree=1, gamma=0, gpu_id=-1,\n",
       "             importance_type='gain', interaction_constraints='',\n",
       "             learning_rate=0.300000012, max_delta_step=0, max_depth=6,\n",
       "             min_child_weight=1, missing=nan, monotone_constraints='()',\n",
       "             n_estimators=100, n_jobs=8, num_parallel_tree=1, random_state=0,\n",
       "             reg_alpha=0, reg_lambda=1, scale_pos_weight=1, subsample=1,\n",
       "             tree_method='exact', validate_parameters=1, verbosity=None)"
      ]
     },
     "execution_count": 26,
     "metadata": {},
     "output_type": "execute_result"
    }
   ],
   "source": [
    "xgb  = XGBRegressor()\n",
    "xgb.fit(X_train, y_train)"
   ]
  },
  {
   "cell_type": "code",
   "execution_count": 27,
   "metadata": {},
   "outputs": [],
   "source": [
    "xgb_predictions = xgb.predict(X_test)\n",
    "xgb_train_score = xgb.score(X_train, y_train)\n",
    "xgb_test_score = xgb.score(X_test, y_test)\n",
    "xgb_mae = np.mean(abs(xgb_predictions - y_test))\n",
    "xgb_rmse = np.sqrt(mean_squared_error(y_test, xgb_predictions))"
   ]
  },
  {
   "cell_type": "code",
   "execution_count": 28,
   "metadata": {
    "scrolled": true
   },
   "outputs": [
    {
     "name": "stdout",
     "output_type": "stream",
     "text": [
      "Base XGB Train Score:      0.9941029886178818\n",
      "Base XGB Test Score:       0.6065254711537946\n",
      "Base XGB MAE:              0.41108103442753513\n",
      "Base XGB RSME:             0.7309451860887742\n"
     ]
    }
   ],
   "source": [
    "print('Base XGB Train Score:     ', xgb_train_score)\n",
    "print('Base XGB Test Score:      ', xgb_test_score)\n",
    "print('Base XGB MAE:             ', xgb_mae)\n",
    "print('Base XGB RSME:            ', xgb_rmse)"
   ]
  },
  {
   "cell_type": "markdown",
   "metadata": {},
   "source": [
    "#### Base Model Summary"
   ]
  },
  {
   "cell_type": "code",
   "execution_count": 29,
   "metadata": {
    "scrolled": true
   },
   "outputs": [
    {
     "name": "stdout",
     "output_type": "stream",
     "text": [
      "Base Linear Regression:\n",
      "Base Linear Regression Train Score:   0.6426944183198834\n",
      "Base Linear Regression Test Score:    0.6042505328338856\n",
      "Base Linear Regression MAE:           0.4023655280819865\n",
      "Base Linear Regression RMSE:          0.7330551811413651\n",
      "-----------------------------------------------------------------------\n",
      "Base Random Forest: \n",
      "Base Random Forest Train Score:       0.94900097859599\n",
      "Base Random Forest Test Score:        0.6108714502618214\n",
      "Base Random Forest MAE:               0.3973408482522743\n",
      "Base Random Forest RMSE:              0.7268972836866974\n",
      "-----------------------------------------------------------------------\n",
      "Base Gradient Boost:\n",
      "Base Gradient Boost Train Score:      0.821127369404369\n",
      "Base Gradient Boost Test Score:       0.6389439502251337\n",
      "Base Gradient Boost MAE:              0.38321139865450515\n",
      "Base Gradient Boost RMSE:             0.7001866262970871\n",
      "-----------------------------------------------------------------------\n",
      "Base Extreme Gradient Boost:\n",
      "Base XGB Train Score:                 0.9941029886178818\n",
      "Base XGB Test Score:                  0.6065254711537946\n",
      "Base XGB MAE:                         0.41108103442753513\n",
      "Base XGB RMSE:                        0.7309451860887742\n"
     ]
    }
   ],
   "source": [
    "print('Base Linear Regression:')\n",
    "print('Base Linear Regression Train Score:  ', lr_train_score)\n",
    "print('Base Linear Regression Test Score:   ', lr_test_score)\n",
    "print('Base Linear Regression MAE:          ',lr_mae)\n",
    "print('Base Linear Regression RMSE:         ',lr_rmse)\n",
    "print('-'*71)\n",
    "print('Base Random Forest: ')\n",
    "print('Base Random Forest Train Score:      ', rf_train_score)\n",
    "print('Base Random Forest Test Score:       ', rf_test_score)\n",
    "print('Base Random Forest MAE:              ', rf_mae)\n",
    "print('Base Random Forest RMSE:             ', rf_rmse)\n",
    "print('-'*71)\n",
    "print('Base Gradient Boost:')\n",
    "print('Base Gradient Boost Train Score:     ', boost_train_score)\n",
    "print('Base Gradient Boost Test Score:      ', boost_test_score)\n",
    "print('Base Gradient Boost MAE:             ', boost_mae)\n",
    "print('Base Gradient Boost RMSE:            ',boost_rmse)\n",
    "print('-'*71)\n",
    "print('Base Extreme Gradient Boost:')\n",
    "print('Base XGB Train Score:                ', xgb_train_score)\n",
    "print('Base XGB Test Score:                 ', xgb_test_score)\n",
    "print('Base XGB MAE:                        ', xgb_mae)\n",
    "print('Base XGB RMSE:                       ', xgb_rmse)"
   ]
  },
  {
   "cell_type": "markdown",
   "metadata": {},
   "source": [
    "The best model performing is the Gradient boost model have the lowest MAE(38%), RMSE(70%) and the highest test score with 63%. "
   ]
  },
  {
   "cell_type": "markdown",
   "metadata": {},
   "source": [
    "## Model Tuning\n",
    "\n",
    "Tuning is the process of maximizing a model's performance without overfitting or creating too high of a variance. This is accomplished by selecting appropriate “hyperparameters.”\n",
    "I will try to increase the score of every model and at the end select the best prediction score."
   ]
  },
  {
   "cell_type": "code",
   "execution_count": 30,
   "metadata": {},
   "outputs": [],
   "source": [
    "kfolds = KFold(n_splits=10, shuffle=True)"
   ]
  },
  {
   "cell_type": "markdown",
   "metadata": {},
   "source": [
    "#### Linear Regression Tuning\n",
    "\n",
    "I will attempt to fit a ridge and lasso model to see if the results are improved. Based on the low score on the training set, it most likely underfitting."
   ]
  },
  {
   "cell_type": "code",
   "execution_count": 31,
   "metadata": {},
   "outputs": [
    {
     "name": "stdout",
     "output_type": "stream",
     "text": [
      "alpha:   1e-06 | train error: 0.5687510773 | val error: 0.7330551811\n",
      "alpha:   1e-05 | train error: 0.5687510773 | val error: 0.7330551811\n",
      "alpha:  0.0001 | train error: 0.5687510773 | val error: 0.7330551805\n",
      "alpha:   0.001 | train error: 0.5687510773 | val error: 0.7330551744\n",
      "alpha:    0.01 | train error: 0.5687510773 | val error: 0.7330551138\n",
      "alpha:     0.1 | train error: 0.5687510787 | val error: 0.7330545094\n",
      "alpha:       1 | train error: 0.5687512157 | val error: 0.7330486697\n",
      "alpha:      10 | train error: 0.5687641288 | val error: 0.733009678\n",
      "alpha:     100 | train error: 0.5695946393 | val error: 0.7339241736\n"
     ]
    }
   ],
   "source": [
    "from sklearn.linear_model import Ridge\n",
    "\n",
    "alphas = [0.000001, 0.00001, 0.0001, 0.001, 0.01, 0.1, 1, 10, 100]\n",
    "\n",
    "for alpha in alphas:\n",
    "    \n",
    "    ridge = Ridge(alpha = alpha, fit_intercept = True, random_state = 0)\n",
    "    ridge.fit(X_train, y_train)\n",
    "    train_error = np.sqrt(mean_squared_error(y_train, ridge.predict(X_train)))\n",
    "    test_error = np.sqrt(mean_squared_error(y_test, ridge.predict(X_test)))\n",
    "    print('alpha: {:7} | train error: {:5} | val error: {:6}'.\n",
    "          format(alpha,\n",
    "                 round(train_error,10),\n",
    "                 round(test_error,10)))"
   ]
  },
  {
   "cell_type": "code",
   "execution_count": 32,
   "metadata": {},
   "outputs": [
    {
     "data": {
      "text/plain": [
       "Ridge(alpha=1e-06)"
      ]
     },
     "execution_count": 32,
     "metadata": {},
     "output_type": "execute_result"
    }
   ],
   "source": [
    "ridge = Ridge(alpha = .000001)\n",
    "ridge.fit(X_train, y_train)"
   ]
  },
  {
   "cell_type": "code",
   "execution_count": 33,
   "metadata": {},
   "outputs": [
    {
     "name": "stdout",
     "output_type": "stream",
     "text": [
      "alpha:   1e-05 | train error: 0.5687510777 | val error: 0.7330581712\n",
      "alpha:  0.0001 | train error: 0.5687511172 | val error: 0.73308517\n",
      "alpha:   0.001 | train error: 0.5687550707 | val error: 0.7333587847\n",
      "alpha:    0.01 | train error: 0.5690352427 | val error: 0.7359320441\n",
      "alpha:     0.1 | train error: 0.5842892415 | val error: 0.7721568861\n",
      "alpha:       1 | train error: 0.9514858454 | val error: 1.1761102078\n",
      "alpha:      10 | train error: 0.9514858454 | val error: 1.1761102078\n"
     ]
    }
   ],
   "source": [
    "from sklearn.linear_model import Lasso\n",
    "\n",
    "alphas = [0.00001, 0.0001, 0.001, 0.01, 0.1, 1, 10]\n",
    "\n",
    "for alpha in alphas:\n",
    "    \n",
    "    lasso = Lasso(alpha = alpha, fit_intercept = True, random_state = 1)\n",
    "    lasso.fit(X_train, y_train)\n",
    "    new_train_error = np.sqrt(mean_squared_error(y_train, lasso.predict(X_train)))\n",
    "    new_validation_error = np.sqrt(mean_squared_error(y_test, lasso.predict(X_test)))\n",
    "    print('alpha: {:7} | train error: {:5} | val error: {:6}'.\n",
    "          format(alpha,\n",
    "                 round(new_train_error,10),\n",
    "                 round(new_validation_error,10)))"
   ]
  },
  {
   "cell_type": "code",
   "execution_count": 34,
   "metadata": {},
   "outputs": [
    {
     "data": {
      "text/plain": [
       "Lasso(alpha=1e-06)"
      ]
     },
     "execution_count": 34,
     "metadata": {},
     "output_type": "execute_result"
    }
   ],
   "source": [
    "lasso = Lasso(alpha = .000001)\n",
    "lasso.fit(X_train, y_train)"
   ]
  },
  {
   "cell_type": "code",
   "execution_count": 35,
   "metadata": {
    "scrolled": true
   },
   "outputs": [
    {
     "name": "stdout",
     "output_type": "stream",
     "text": [
      "Base Linear Regression Train Score:       0.6426944183198834\n",
      "Base Linear Regression Test Score:        0.6042505328338856\n",
      "------------------------------------------------------------------------\n",
      "Ridge Regression Train Score:             0.6426944183198834\n",
      "Ridge Regression Test Score:              0.6042505328411631\n",
      "------------------------------------------------------------------------\n",
      "Lasso Regression Train Score:             0.6426944183148688\n",
      "Lasso Regression Test Score:              0.6042502132783034\n"
     ]
    }
   ],
   "source": [
    "lasso_train_score = lasso.score(X_train, y_train)\n",
    "lasso_test_score = lasso.score(X_test, y_test)\n",
    "\n",
    "\n",
    "print('Base Linear Regression Train Score:      ', lr.score(X_train, y_train))\n",
    "print('Base Linear Regression Test Score:       ', lr.score(X_test, y_test))\n",
    "print('-'*72)\n",
    "print('Ridge Regression Train Score:            ', ridge.score(X_train, y_train))\n",
    "print('Ridge Regression Test Score:             ', ridge.score(X_test, y_test))\n",
    "print('-'*72)\n",
    "print('Lasso Regression Train Score:            ', lasso_train_score)\n",
    "print('Lasso Regression Test Score:             ', lasso_test_score)"
   ]
  },
  {
   "cell_type": "markdown",
   "metadata": {},
   "source": [
    "The lasso regularization is with an alpha value of 0.000001 is performing the best on the Test data, however, the change is minimal. The Linear regression only has a very slight improvement."
   ]
  },
  {
   "cell_type": "code",
   "execution_count": 36,
   "metadata": {},
   "outputs": [
    {
     "name": "stdout",
     "output_type": "stream",
     "text": [
      "Base Linear Regression MAE:    0.4023655280819865\n",
      "Base Linear Regression RMSE:   0.7330551811413651\n",
      "Lasso Regresson MAE:           0.40236559025658386\n",
      "Lasso Regression RSME:         0.7330554771011167\n"
     ]
    }
   ],
   "source": [
    "lasso_predictions = lasso.predict(X_test)\n",
    "lasso_mae = np.mean(abs(lasso_predictions - y_test))\n",
    "lasso_rmse = np.sqrt(mean_squared_error(y_test, lasso_predictions))\n",
    "\n",
    "print('Base Linear Regression MAE:   ',lr_mae)\n",
    "print('Base Linear Regression RMSE:  ',lr_rmse)\n",
    "print('Lasso Regresson MAE:          ',lasso_mae)\n",
    "print('Lasso Regression RSME:        ', lasso_rmse)\n"
   ]
  },
  {
   "cell_type": "markdown",
   "metadata": {},
   "source": [
    "The Lasso model also shows a minimal improvement on the MAE and RMSE metrics."
   ]
  },
  {
   "cell_type": "code",
   "execution_count": 37,
   "metadata": {},
   "outputs": [
    {
     "data": {
      "image/png": "[encoded data removed]",
      "text/plain": [
       "<Figure size 432x288 with 1 Axes>"
      ]
     },
     "metadata": {
      "needs_background": "light"
     },
     "output_type": "display_data"
    }
   ],
   "source": [
    "sns.residplot(x = lasso_predictions, y = y_test - lasso_predictions)\n",
    "plt.title('Residuals, Lasso Regression Model', size = 12)\n",
    "plt.ylabel('Residuals', size = 10)\n",
    "plt.xlabel('Predicted ROI', size = 10)\n",
    "plt.show()"
   ]
  },
  {
   "cell_type": "code",
   "execution_count": 38,
   "metadata": {},
   "outputs": [
    {
     "data": {
      "image/png": "[encoded data removed]",
      "text/plain": [
       "<Figure size 432x288 with 1 Axes>"
      ]
     },
     "metadata": {
      "needs_background": "light"
     },
     "output_type": "display_data"
    }
   ],
   "source": [
    "plt.hist(y_test - lasso_predictions, bins = np.arange(-1.5, 1, 0.1))\n",
    "plt.title('Residual Distribution, Lasso Model', size = 12)\n",
    "plt.ylabel('Residuals', size = 10)\n",
    "plt.xlabel('Predicted ROI', size = 10)\n",
    "plt.show()"
   ]
  },
  {
   "cell_type": "code",
   "execution_count": 39,
   "metadata": {},
   "outputs": [
    {
     "name": "stdout",
     "output_type": "stream",
     "text": [
      "Lasso Residuals, 90th percentile:  (-0.5697, 1.2624)\n"
     ]
    }
   ],
   "source": [
    "lasso_90_percentile = calculate_residual_percentile(lasso_predictions, y_test ,90)\n",
    "print('Lasso Residuals, 90th percentile: ', lasso_90_percentile)"
   ]
  },
  {
   "cell_type": "markdown",
   "metadata": {},
   "source": [
    "As with the base model, the residuals are still centered above zero, and the negative residuals have a heavy tail. "
   ]
  },
  {
   "cell_type": "markdown",
   "metadata": {},
   "source": [
    "#### Random Forest Tuning\n",
    "\n",
    "To tune the Random Forest, I have to evaluate each feature's importance for the Random Forest model."
   ]
  },
  {
   "cell_type": "code",
   "execution_count": 40,
   "metadata": {},
   "outputs": [
    {
     "name": "stdout",
     "output_type": "stream",
     "text": [
      "                 importance\n",
      "bedrooms           0.615277\n",
      "latitude           0.099712\n",
      "longitude          0.091915\n",
      "cleaning_fee       0.066988\n",
      "bathrooms          0.056027\n",
      "availability_30    0.038774\n",
      "accommodates       0.031307\n"
     ]
    }
   ],
   "source": [
    "feature_importances = pd.DataFrame(rf.feature_importances_, index = ['longitude', 'latitude', 'accommodates', 'availability_30','cleaning_fee', 'bedrooms', 'bathrooms'], columns = ['importance']).sort_values('importance', ascending = False)\n",
    "print(feature_importances.head(10))"
   ]
  },
  {
   "cell_type": "code",
   "execution_count": 41,
   "metadata": {},
   "outputs": [],
   "source": [
    "X_2 = house_scaled[['longitude', 'latitude', 'accommodates', 'cleaning_fee', 'bedrooms']].values\n",
    "y_2 = house_scaled['price'].values"
   ]
  },
  {
   "cell_type": "code",
   "execution_count": 42,
   "metadata": {},
   "outputs": [],
   "source": [
    "X_2_train, X_2_test, y_2_train, y_2_test = train_test_split(X_2, y_2, test_size = 0.25, random_state = 0)"
   ]
  },
  {
   "cell_type": "code",
   "execution_count": 43,
   "metadata": {},
   "outputs": [
    {
     "data": {
      "text/plain": [
       "RandomForestRegressor(n_jobs=-1, random_state=42)"
      ]
     },
     "execution_count": 43,
     "metadata": {},
     "output_type": "execute_result"
    }
   ],
   "source": [
    "rf_2 = RandomForestRegressor(n_jobs = -1, n_estimators = 100, random_state = 42)\n",
    "\n",
    "rf_2.fit(X_2_train, y_2_train)"
   ]
  },
  {
   "cell_type": "code",
   "execution_count": 44,
   "metadata": {},
   "outputs": [
    {
     "name": "stdout",
     "output_type": "stream",
     "text": [
      "Base Random Forest:\n",
      " Train Score:       0.94900097859599\n",
      " Validation Score:  0.6108714502618214\n",
      " MAE:               0.3973408482522743\n",
      " RMSE:              0.7268972836866974\n",
      "Reduced Dimension Random Forest:\n",
      " Train Score:       0.9506309244750584\n",
      " Test Score:        0.6374850141545438\n",
      " MAE:               0.36778569657775106\n",
      " RMSE:              0.6793451738780799\n"
     ]
    }
   ],
   "source": [
    "rf_2_predictions = rf_2.predict(X_2_test)\n",
    "rf_2_train_score = rf_2.score(X_2_train, y_2_train)\n",
    "rf_2_test_score = rf_2.score(X_2_test, y_2_test)\n",
    "rf_2_mae = np.mean(abs(rf_2_predictions - y_2_test))\n",
    "rf_2_rmse = np.sqrt(mean_squared_error(y_2_test, rf_2_predictions))\n",
    "\n",
    "print('Base Random Forest:')\n",
    "print(' Train Score:      ', rf_train_score)\n",
    "print(' Validation Score: ', rf_test_score)\n",
    "print(' MAE:              ', rf_mae)\n",
    "print(' RMSE:             ', rf_rmse)\n",
    "print('Reduced Dimension Random Forest:')\n",
    "print(' Train Score:      ', rf_2_train_score)\n",
    "print(' Test Score:       ', rf_2_test_score)\n",
    "print(' MAE:              ',rf_2_mae)\n",
    "print(' RMSE:             ',rf_2_rmse)"
   ]
  },
  {
   "cell_type": "markdown",
   "metadata": {},
   "source": [
    "Cutting the bathroom feature makes the Random Forest increase the scoring metrics to 63.7%."
   ]
  },
  {
   "cell_type": "markdown",
   "metadata": {},
   "source": [
    "#### Gradient Boost Tuning"
   ]
  },
  {
   "cell_type": "markdown",
   "metadata": {},
   "source": [
    "To tune the gradient boost model, I will set up a parameter grid and do a grid search to determine which parameters yield the highest score on the validation set. Next, search over the max_depth, learning_rate, min_samples_leaf, and max_features hyperparameters, all with an increased n_estimators parameter of 1000."
   ]
  },
  {
   "cell_type": "code",
   "execution_count": 45,
   "metadata": {},
   "outputs": [],
   "source": [
    "from sklearn.model_selection import ParameterGrid\n",
    "\n",
    "param_grid = {'learning_rate' : [0.1, 0.05, 0.02], #default 0.1\n",
    "              'min_samples_leaf' : [1,3], #default 1\n",
    "              'max_features' : [1, 0.5, 0.2]} #default none (all)\n",
    "\n",
    "boost_2 = GradientBoostingRegressor(n_estimators = 1000, random_state = 0)"
   ]
  },
  {
   "cell_type": "code",
   "execution_count": 46,
   "metadata": {},
   "outputs": [],
   "source": [
    "scores = []\n",
    "best_score = 0\n",
    "best_param = {}\n",
    "\n",
    "for p in ParameterGrid(param_grid):\n",
    "    boost_2.set_params(**p)\n",
    "    boost_2.fit(X_train, y_train)\n",
    "    score = boost_2.score(X_test, y_test)\n",
    "    scores.append(score)\n",
    "    if score > best_score:\n",
    "        best_score = score\n",
    "        best_param = p"
   ]
  },
  {
   "cell_type": "code",
   "execution_count": 47,
   "metadata": {},
   "outputs": [
    {
     "name": "stdout",
     "output_type": "stream",
     "text": [
      "{'learning_rate': 0.02, 'max_features': 1, 'min_samples_leaf': 3}\n",
      "0.6741793024221414\n"
     ]
    }
   ],
   "source": [
    "print(best_param)\n",
    "print(best_score)"
   ]
  },
  {
   "cell_type": "markdown",
   "metadata": {},
   "source": [
    "The best scoring was found with a learning rate of 0.02, max features of 1, and minimum samples leaf of 3."
   ]
  },
  {
   "cell_type": "code",
   "execution_count": 48,
   "metadata": {},
   "outputs": [
    {
     "data": {
      "text/plain": [
       "GradientBoostingRegressor(learning_rate=0.07, max_features=1,\n",
       "                          min_samples_leaf=3, random_state=0)"
      ]
     },
     "execution_count": 48,
     "metadata": {},
     "output_type": "execute_result"
    }
   ],
   "source": [
    "boost_2 = GradientBoostingRegressor(learning_rate = 0.07,\n",
    "                                        max_features = 1,\n",
    "                                        min_samples_leaf = 3,\n",
    "                                        random_state = 0)\n",
    "boost_2.fit(X_train, y_train)"
   ]
  },
  {
   "cell_type": "code",
   "execution_count": 49,
   "metadata": {},
   "outputs": [
    {
     "name": "stdout",
     "output_type": "stream",
     "text": [
      "Base Gradient Boost:\n",
      " Train Score:       0.821127369404369\n",
      " Test Score:        0.6389439502251337\n",
      " MAE:               0.38321139865450515\n",
      " RSME:              0.7001866262970871\n",
      "------------------------------------------------------------------------\n",
      "Tuned Gradient Boost:\n",
      " Train Score:       0.758560735407454\n",
      " Test Score:        0.6641715110849374\n",
      " MAE:               0.3664366289726414\n",
      " RSME:              0.6752821436211988\n"
     ]
    }
   ],
   "source": [
    "boost_2_predictions = boost_2.predict(X_test)\n",
    "boost_2_train_score = boost_2.score(X_train, y_train)\n",
    "boost_2_test_score = boost_2.score(X_test, y_test)\n",
    "boost_2_mae = np.mean(abs(boost_2_predictions - y_test))\n",
    "boost_2_rmse = np.sqrt(mean_squared_error(y_test, boost_2_predictions))\n",
    "print('Base Gradient Boost:')\n",
    "print(' Train Score:      ', boost_train_score)\n",
    "print(' Test Score:       ', boost_test_score)\n",
    "print(' MAE:              ', boost_mae)\n",
    "print(' RSME:             ', boost_rmse)\n",
    "print('-'*72)\n",
    "print('Tuned Gradient Boost:')\n",
    "print(' Train Score:      ', boost_2_train_score)\n",
    "print(' Test Score:       ', boost_2_test_score)\n",
    "print(' MAE:              ', boost_2_mae)\n",
    "print(' RSME:             ', boost_2_rmse)"
   ]
  },
  {
   "cell_type": "markdown",
   "metadata": {},
   "source": [
    "The Tuned Gradient Boost results in a minimal gain in the scoring metrics to 66%."
   ]
  },
  {
   "cell_type": "markdown",
   "metadata": {},
   "source": [
    "#### XGBRegression tuning\n",
    "\n",
    "I will tune the XGBRegressor hyperparameter using Randomized Search CV and GridSearchCV to find the optimal parameters. "
   ]
  },
  {
   "cell_type": "code",
   "execution_count": 50,
   "metadata": {},
   "outputs": [],
   "source": [
    "import xgboost as xgb"
   ]
  },
  {
   "cell_type": "code",
   "execution_count": 51,
   "metadata": {},
   "outputs": [
    {
     "name": "stdout",
     "output_type": "stream",
     "text": [
      "Fitting 10 folds for each of 117 candidates, totalling 1170 fits\n"
     ]
    },
    {
     "name": "stderr",
     "output_type": "stream",
     "text": [
      "[Parallel(n_jobs=-1)]: Using backend LokyBackend with 8 concurrent workers.\n",
      "[Parallel(n_jobs=-1)]: Done  34 tasks      | elapsed:    1.2s\n"
     ]
    },
    {
     "name": "stdout",
     "output_type": "stream",
     "text": [
      "best params {'alpha': 0.01, 'l1_ratio': 0.01}\n"
     ]
    },
    {
     "name": "stderr",
     "output_type": "stream",
     "text": [
      "[Parallel(n_jobs=-1)]: Done 1096 tasks      | elapsed:    1.6s\n",
      "[Parallel(n_jobs=-1)]: Done 1170 out of 1170 | elapsed:    1.6s finished\n"
     ]
    }
   ],
   "source": [
    "### XGBoost (GridSearchCV)\n",
    "\n",
    "MEAN_RESPONSE=y_2_train.mean()\n",
    "def cv_to_raw(cv_val, mean_response=MEAN_RESPONSE):\n",
    "    \"\"\"convert log1p rmse to underlying SalePrice error\"\"\"\n",
    "    return np.expm1(mean_response+cv_val) - np.expm1(mean_response)\n",
    "    \n",
    "    \n",
    "gs = make_pipeline(RobustScaler(),\n",
    "                   GridSearchCV(ElasticNet(max_iter=100000),\n",
    "                                param_grid={'l1_ratio': [0.01, 0.05, 0.1, 0.2, 0.3, 0.4, 0.5, 0.6, 0.7, 0.8, 0.9, 0.95, 0.99],\n",
    "                                            'alpha': np.logspace(-4, -2, 9),\n",
    "                                           },\n",
    "                                scoring='neg_root_mean_squared_error',\n",
    "                                refit=True,\n",
    "                                cv=kfolds,\n",
    "                                n_jobs=-1,\n",
    "                                verbose=1\n",
    "                               ))\n",
    "\n",
    "gs.fit(X_2_train, y_2_train)\n",
    "print('best params', gs._final_estimator.best_params_)"
   ]
  },
  {
   "cell_type": "code",
   "execution_count": 52,
   "metadata": {},
   "outputs": [
    {
     "name": "stderr",
     "output_type": "stream",
     "text": [
      "[Parallel(n_jobs=-1)]: Using backend LokyBackend with 8 concurrent workers.\n",
      "[Parallel(n_jobs=-1)]: Done  56 tasks      | elapsed:    0.1s\n"
     ]
    },
    {
     "name": "stdout",
     "output_type": "stream",
     "text": [
      "Fitting 10 folds for each of 200 candidates, totalling 2000 fits\n",
      "best params {'alpha': 0.03216386150014773, 'l1_ratio': 0.006305247948054204}\n",
      "best score 0.562921535268701\n"
     ]
    },
    {
     "name": "stderr",
     "output_type": "stream",
     "text": [
      "[Parallel(n_jobs=-1)]: Done 2000 out of 2000 | elapsed:    0.7s finished\n"
     ]
    }
   ],
   "source": [
    "# RandomizedSearch\n",
    "rs = make_pipeline(RobustScaler(),\n",
    "                   RandomizedSearchCV(ElasticNet(max_iter=100000),\n",
    "                                      {'alpha': loguniform(0.0001, 0.1),\n",
    "                                       'l1_ratio': uniform(0.001, 0.5),\n",
    "                                      },\n",
    "                                      scoring='neg_root_mean_squared_error',\n",
    "                                      refit=True,\n",
    "                                      cv=kfolds,\n",
    "                                      n_iter=200,\n",
    "                                      n_jobs=-1,\n",
    "                                      verbose=1,\n",
    "                                     )\n",
    "                  )\n",
    "\n",
    "rs.fit(X_2_train, y_2_train)\n",
    "\n",
    "print('best params', rs._final_estimator.best_params_)\n",
    "print('best score', -rs._final_estimator.best_score_)"
   ]
  },
  {
   "cell_type": "markdown",
   "metadata": {},
   "source": [
    "**Let's compare the parameters results**"
   ]
  },
  {
   "cell_type": "code",
   "execution_count": 53,
   "metadata": {},
   "outputs": [
    {
     "data": {
      "text/plain": [
       "XGBRegressor(alpha=0.01, base_score=0.5, booster='gbtree', colsample_bylevel=1,\n",
       "             colsample_bynode=1, colsample_bytree=1, gamma=0, gpu_id=-1,\n",
       "             importance_type='gain', interaction_constraints='',\n",
       "             learning_rate=0.01, max_delta_step=0, max_depth=6,\n",
       "             min_child_weight=1, missing=nan, monotone_constraints='()',\n",
       "             n_estimators=1000, n_jobs=8, num_parallel_tree=1, random_state=0,\n",
       "             reg_alpha=0.00999999978, reg_lambda=1, scale_pos_weight=1,\n",
       "             subsample=1, tree_method='exact', validate_parameters=1,\n",
       "             verbosity=None)"
      ]
     },
     "execution_count": 53,
     "metadata": {},
     "output_type": "execute_result"
    }
   ],
   "source": [
    "boost_4 = XGBRegressor(n_estimators = 1000, alpha= 0.05, learning_rate=0.01)\n",
    "boost_4.fit(X_2_train, y_2_train)\n",
    "boost_5 = XGBRegressor(n_estimators = 1000, alpha= 0.01,learning_rate=0.01)\n",
    "boost_5.fit(X_2_train, y_2_train)"
   ]
  },
  {
   "cell_type": "code",
   "execution_count": 54,
   "metadata": {},
   "outputs": [
    {
     "name": "stdout",
     "output_type": "stream",
     "text": [
      "Base Gradient Boost:\n",
      " Train Score:       0.821127369404369\n",
      " Test Score:        0.6389439502251337\n",
      " MAE:               0.38321139865450515\n",
      " RMSE:              0.7001866262970871\n",
      "------------------------------------------------------------------------\n",
      "Tune Gradient Boost-1:\n",
      " Train Score:       0.9432081996308647\n",
      " Test Score:        0.6300440491132039\n",
      " MAE:               0.3743839281866549\n",
      " RMSE:              0.6862818622207193\n",
      "------------------------------------------------------------------------\n",
      "Tune Gradient Boost-2:\n",
      " Train Score:       0.9462476323845812\n",
      " Test Score:        0.6356176290539096\n",
      " MAE:               0.37227147615742456\n",
      " RMSE:              0.681092645844178\n"
     ]
    }
   ],
   "source": [
    "boost_4_predictions = boost_4.predict(X_2_test)\n",
    "boost_4_train_score = boost_4.score(X_2_train, y_2_train)\n",
    "boost_4_test_score = boost_4.score(X_2_test, y_2_test)\n",
    "boost_4_mae = np.mean(abs(boost_4_predictions - y_2_test))\n",
    "boost_4_rmse = np.sqrt(mean_squared_error(y_2_test, boost_4_predictions))\n",
    "\n",
    "\n",
    "boost_5_predictions = boost_5.predict(X_2_test)\n",
    "boost_5_train_score = boost_5.score(X_2_train, y_2_train)\n",
    "boost_5_test_score = boost_5.score(X_2_test, y_2_test)\n",
    "boost_5_mae = np.mean(abs(boost_5_predictions - y_2_test))\n",
    "boost_5_rmse = np.sqrt(mean_squared_error(y_2_test, boost_5_predictions))\n",
    "\n",
    "print('Base Gradient Boost:')\n",
    "print(' Train Score:      ', boost_train_score)\n",
    "print(' Test Score:       ', boost_test_score)\n",
    "print(' MAE:              ', boost_mae)\n",
    "print(' RMSE:             ', boost_rmse)\n",
    "print('-'*72)\n",
    "print('Tune Gradient Boost-1:')\n",
    "print(' Train Score:      ', boost_5_train_score)\n",
    "print(' Test Score:       ', boost_5_test_score)\n",
    "print(' MAE:              ', boost_5_mae)\n",
    "print(' RMSE:             ', boost_5_rmse)\n",
    "print('-'*72)\n",
    "print('Tune Gradient Boost-2:')\n",
    "print(' Train Score:      ', boost_4_train_score)\n",
    "print(' Test Score:       ', boost_4_test_score)\n",
    "print(' MAE:              ', boost_4_mae)\n",
    "print(' RMSE:             ', boost_4_rmse)"
   ]
  },
  {
   "cell_type": "markdown",
   "metadata": {},
   "source": [
    "I was tuning the XBGRegression and the score decrease compared to the baseline."
   ]
  },
  {
   "cell_type": "markdown",
   "metadata": {},
   "source": [
    "## Model Selection\n",
    "\n",
    "After produced many iterations of performance tuning to find the optimal solution of each model. Random Forest Regression, XGBoost, Gradient Boost Regression, and XGBoost were tuned by function GridSearchCV provided by scikit-learn to produce the following results listed."
   ]
  },
  {
   "cell_type": "code",
   "execution_count": 55,
   "metadata": {},
   "outputs": [
    {
     "name": "stdout",
     "output_type": "stream",
     "text": [
      "      Models                  Test score\n",
      "Lasso Regression Test Score:   0.6043\n",
      "Random Forest Test Score:      0.6375\n",
      "Gradient Boost:                0.6642\n",
      "XGBoot regression:             0.6356\n"
     ]
    }
   ],
   "source": [
    "print('      Models                  Test score')\n",
    "print('Lasso Regression Test Score:  ', round(lasso_test_score, 4))\n",
    "print('Random Forest Test Score:     ', round(rf_2_test_score, 4)) \n",
    "print('Gradient Boost:               ', round(boost_2_test_score,4))\n",
    "print('XGBoot regression:            ', round(boost_4_test_score,4))"
   ]
  },
  {
   "cell_type": "code",
   "execution_count": 56,
   "metadata": {},
   "outputs": [
    {
     "name": "stdout",
     "output_type": "stream",
     "text": [
      "      Models                  RMSE score\n",
      "Lasso Regression Test Score:   0.7331\n",
      "Random Forest Test Score:      0.6793\n",
      "Gradient Boost:                0.6753\n",
      "XGBoot regression:             0.6811\n"
     ]
    }
   ],
   "source": [
    "print('      Models                  RMSE score')\n",
    "print('Lasso Regression Test Score:  ', round(lasso_rmse, 4))\n",
    "print('Random Forest Test Score:     ', round(rf_2_rmse, 4)) \n",
    "print('Gradient Boost:               ', round(boost_2_rmse, 4))\n",
    "print('XGBoot regression:            ', round(boost_4_rmse,4))"
   ]
  },
  {
   "cell_type": "code",
   "execution_count": 57,
   "metadata": {},
   "outputs": [
    {
     "name": "stdout",
     "output_type": "stream",
     "text": [
      "      Models                  MAE score\n",
      "Lasso Regression Test Score:   0.4024\n",
      "Random Forest Test Score:      0.3678\n",
      "Gradient Boost:                0.3664\n",
      "XGBoot regression:             0.3723\n"
     ]
    }
   ],
   "source": [
    "print('      Models                  MAE score')\n",
    "print('Lasso Regression Test Score:  ', round(lasso_mae, 4))\n",
    "print('Random Forest Test Score:     ', round(rf_2_mae, 4))\n",
    "print('Gradient Boost:               ', round(boost_2_mae, 4))\n",
    "print('XGBoot regression:            ', round(boost_4_mae,4))"
   ]
  },
  {
   "cell_type": "markdown",
   "metadata": {},
   "source": [
    "I divided the result into categories, R square as Test Score, Root mean squared error as RMSE, and Mean Absolute Error as MAE. The model with the best test score result belongs to Gradient Boost with 66%. This model has the lowest root mean squared error with 72.15 but is not the slower in MAE. Still, this is the model I selected. "
   ]
  },
  {
   "cell_type": "code",
   "execution_count": null,
   "metadata": {},
   "outputs": [],
   "source": []
  }
 ],
 "metadata": {
  "kernelspec": {
   "display_name": "Python 3",
   "language": "python",
   "name": "python3"
  },
  "language_info": {
   "codemirror_mode": {
    "name": "ipython",
    "version": 3
   },
   "file_extension": ".py",
   "mimetype": "text/x-python",
   "name": "python",
   "nbconvert_exporter": "python",
   "pygments_lexer": "ipython3",
   "version": "3.8.3"
  }
 },
 "nbformat": 4,
 "nbformat_minor": 4
}
